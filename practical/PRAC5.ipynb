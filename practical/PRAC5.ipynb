{
 "cells": [
  {
   "cell_type": "markdown",
   "id": "c6ca42ad-fa99-47c1-9fd4-050382367803",
   "metadata": {},
   "source": [
    "### SURAJ"
   ]
  },
  {
   "cell_type": "markdown",
   "id": "cd53f5f0-145c-4964-881e-9a5a8c58478b",
   "metadata": {},
   "source": [
    "### PRACTICAL NO. 5 "
   ]
  },
  {
   "cell_type": "markdown",
   "id": "9f55e3d5-1ea7-4a42-a8f9-1b07beeb0b6d",
   "metadata": {},
   "source": [
    "### Stack\n"
   ]
  },
  {
   "cell_type": "code",
   "execution_count": 19,
   "id": "dd3824cf-55b7-4c2d-9f0c-b11fdd080da0",
   "metadata": {},
   "outputs": [
    {
     "name": "stdout",
     "output_type": "stream",
     "text": [
      "Initial Stack\n",
      "['a', 'b', 'c']\n"
     ]
    }
   ],
   "source": [
    "stack = list ()\n",
    "\n",
    "# Append Operation\n",
    "stack.append ('a')\n",
    "stack.append ('b')\n",
    "stack.append ('c')\n",
    "print ('Initial Stack')\n",
    "print (stack)"
   ]
  },
  {
   "cell_type": "code",
   "execution_count": 20,
   "id": "eb7dc4d1-acb6-4192-aadd-70a090215e96",
   "metadata": {
    "scrolled": true
   },
   "outputs": [
    {
     "name": "stdout",
     "output_type": "stream",
     "text": [
      "c\n",
      "b\n",
      "a\n",
      "[]\n"
     ]
    }
   ],
   "source": [
    "print (stack.pop ())\n",
    "print (stack.pop ())\n",
    "print (stack.pop ())\n",
    "print (stack)"
   ]
  },
  {
   "cell_type": "code",
   "execution_count": null,
   "id": "e4e7d2a9-7585-4a53-9d09-25f5223879f4",
   "metadata": {},
   "outputs": [],
   "source": []
  },
  {
   "cell_type": "code",
   "execution_count": 33,
   "id": "d2771002-158e-4fa2-bec8-5f99e64548f7",
   "metadata": {},
   "outputs": [
    {
     "name": "stdout",
     "output_type": "stream",
     "text": [
      "Example 1: (((((1+(2*3)+((8)/4))))))+1\n",
      "Maximum Nesting Depth: 7\n",
      "\n",
      "Example 2: (1/(7))+((2))+(((3)))+1\n",
      "Maximum Nesting Depth: 3\n",
      "\n",
      "Example 3: ()(())(((())))\n",
      "Maximum Nesting Depth: 4\n",
      "\n"
     ]
    }
   ],
   "source": [
    "import re\n",
    "\n",
    "class StackDepth:\n",
    "    def maximumDepth(self, strInput: str) -> int:\n",
    "        max_depth = 0\n",
    "        current_depth = 0\n",
    "\n",
    "       \n",
    "        parentheses = re.findall(r'[()]', strInput)\n",
    "\n",
    "        for char in parentheses:\n",
    "            if char == '(':\n",
    "                current_depth += 1\n",
    "                max_depth = max(max_depth, current_depth)\n",
    "            elif char == ')':\n",
    "                current_depth -= 1  \n",
    "        \n",
    "        return max_depth\n",
    "\n",
    "\n",
    "text = \"\"\"\n",
    "Given a valid parentheses string stringInput, return the nesting depth of stringInput.\n",
    "The nesting depth is the maximum number of nested parentheses.\n",
    "\n",
    "Example 1:\n",
    "Input: s = \"(((((1+(2*3)+((8)/4))))))+1\"\n",
    "\n",
    "Example 2:\n",
    "Input: s = \"(1/(7))+((2))+(((3)))+1\"\n",
    "\n",
    "\n",
    "Example 3:\n",
    "Input: s = \"()(())(((())))\"\n",
    "\n",
    "\"\"\"\n",
    "\n",
    "\n",
    "inputs = re.findall(r'Input: s = \"(.*?)\"', text) # it extract all strings inside after \"Input: s =\"\n",
    "\n",
    "\n",
    "obj = StackDepth()  # this Creates an object of StackDepth\n",
    "\n",
    "# calculates and print depth for each extracted input\n",
    "for i, input_str in enumerate(inputs, 1):\n",
    "    print(f\"Example {i}: {input_str}\")\n",
    "    print(f\"Maximum Nesting Depth: {obj.maximumDepth(input_str)}\\n\")\n"
   ]
  },
  {
   "cell_type": "code",
   "execution_count": 25,
   "id": "2c10f0e3-4155-4baf-ac6b-fbb4738afe9c",
   "metadata": {},
   "outputs": [
    {
     "name": "stdin",
     "output_type": "stream",
     "text": [
      "enter string input (1)+((2))+(((3)))+(DSDA)\n"
     ]
    },
    {
     "name": "stdout",
     "output_type": "stream",
     "text": [
      "Maximum  Depth: 3\n"
     ]
    }
   ],
   "source": [
    "class StackDepth:\n",
    "    def maximumDepth(self, strInput: str) -> int:\n",
    "        max_depth = 0\n",
    "        current_depth = 0\n",
    "        \n",
    "        for char in strInput:\n",
    "            if char == '(':\n",
    "                current_depth += 1\n",
    "                max_depth = max(max_depth, current_depth)\n",
    "            elif char == ')':\n",
    "                current_depth -= 1\n",
    "        \n",
    "        return max_depth\n",
    "\n",
    "\n",
    "obj = StackDepth()\n",
    "strInput =input(\"enter string input\")\n",
    "print(\"Maximum  Depth:\", obj.maximumDepth(strInput))\n"
   ]
  },
  {
   "cell_type": "code",
   "execution_count": null,
   "id": "0dcffa2e-835d-456d-af64-10652a04da07",
   "metadata": {},
   "outputs": [],
   "source": []
  },
  {
   "cell_type": "code",
   "execution_count": null,
   "id": "8197c8b3-9e95-4299-960d-354f323666c6",
   "metadata": {},
   "outputs": [],
   "source": []
  },
  {
   "cell_type": "code",
   "execution_count": null,
   "id": "a42c6a35-bc4d-447b-835e-549412b25aaf",
   "metadata": {},
   "outputs": [],
   "source": []
  },
  {
   "cell_type": "code",
   "execution_count": null,
   "id": "1cf07862-ce6a-4bee-8f46-0f03ebd30838",
   "metadata": {},
   "outputs": [],
   "source": []
  }
 ],
 "metadata": {
  "kernelspec": {
   "display_name": "Python 3 (ipykernel)",
   "language": "python",
   "name": "python3"
  },
  "language_info": {
   "codemirror_mode": {
    "name": "ipython",
    "version": 3
   },
   "file_extension": ".py",
   "mimetype": "text/x-python",
   "name": "python",
   "nbconvert_exporter": "python",
   "pygments_lexer": "ipython3",
   "version": "3.11.5"
  }
 },
 "nbformat": 4,
 "nbformat_minor": 5
}
