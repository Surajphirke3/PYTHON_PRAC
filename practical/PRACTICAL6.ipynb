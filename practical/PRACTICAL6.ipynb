{
 "cells": [
  {
   "cell_type": "markdown",
   "id": "de5f8a1a-79b5-4f7b-8f17-3ddd67f002c5",
   "metadata": {},
   "source": [
    "# Name: Suraj Phirke\n",
    "##### ROLLNO:72\n",
    "##### Practical no.6"
   ]
  },
  {
   "cell_type": "markdown",
   "id": "c466e92d-42d4-49d9-976c-f4aaffabc0b2",
   "metadata": {},
   "source": [
    "# Importing"
   ]
  },
  {
   "cell_type": "code",
   "execution_count": 2,
   "id": "c85bfdb7-86ea-4ca1-969b-22864c9cc7bb",
   "metadata": {},
   "outputs": [],
   "source": [
    "import sqlite3"
   ]
  },
  {
   "cell_type": "markdown",
   "id": "a4cf4ec3-826e-452a-a5f7-869c1e46e893",
   "metadata": {},
   "source": [
    "### connecting to Database\n"
   ]
  },
  {
   "cell_type": "code",
   "execution_count": 4,
   "id": "98cc0457-a908-491c-a7be-508d9e3c2b88",
   "metadata": {},
   "outputs": [],
   "source": [
    "connection = sqlite3.connect ('./new.db')\n",
    "cursor = connection.cursor ()"
   ]
  },
  {
   "cell_type": "markdown",
   "id": "927f787e-3b69-415b-b194-35b02c442707",
   "metadata": {},
   "source": [
    "### Create Table"
   ]
  },
  {
   "cell_type": "code",
   "execution_count": 6,
   "id": "87d7a5d1-a33e-451f-9394-d80cd0c17f8e",
   "metadata": {},
   "outputs": [],
   "source": [
    "cursor.execute('''\n",
    "    CREATE TABLE IF NOT EXISTS students (\n",
    "        id INTEGER PRIMARY KEY AUTOINCREMENT,\n",
    "        name TEXT NOT NULL,\n",
    "        age INTEGER NOT NULL\n",
    "    )\n",
    "''')\n",
    "\n",
    "connection.commit()"
   ]
  },
  {
   "cell_type": "markdown",
   "id": "c9cede4e-ccb7-49d9-822a-1bdd334e5f23",
   "metadata": {},
   "source": [
    "# CRUD Operation"
   ]
  },
  {
   "cell_type": "markdown",
   "id": "b5098392-4509-4e59-9020-c60fa0f5d453",
   "metadata": {},
   "source": [
    "### Create(insertion)"
   ]
  },
  {
   "cell_type": "code",
   "execution_count": 8,
   "id": "072db8cb-ccf9-48fd-9329-30bd4e3eb8ad",
   "metadata": {},
   "outputs": [
    {
     "name": "stdout",
     "output_type": "stream",
     "text": [
      "Record added successfully!\n",
      "Record added successfully!\n"
     ]
    }
   ],
   "source": [
    "\n",
    "def create_student(name, age):\n",
    "    cursor.execute('''\n",
    "        INSERT INTO students (name, age) \n",
    "        VALUES (?, ?)\n",
    "    ''', (name, age))\n",
    "    connection.commit()\n",
    "    print(\"Record added successfully!\")\n",
    "\n",
    "create_student(\"Griffith\", 20)\n",
    "create_student(\"Guts\", 22)\n"
   ]
  },
  {
   "cell_type": "markdown",
   "id": "ecae4dcb-2839-4ead-a58b-7a6d475deb84",
   "metadata": {},
   "source": [
    "### Read (Retrival)"
   ]
  },
  {
   "cell_type": "code",
   "execution_count": 10,
   "id": "329cabc7-0948-4dd9-8978-63b59f19e74c",
   "metadata": {},
   "outputs": [
    {
     "name": "stdout",
     "output_type": "stream",
     "text": [
      "Student Records:\n",
      "(1, 'Griffith', 20)\n",
      "(2, 'Guts', 22)\n"
     ]
    }
   ],
   "source": [
    "def read_students():\n",
    "    cursor.execute('SELECT * FROM students')\n",
    "    rows = cursor.fetchall()\n",
    "    print(\"Student Records:\")\n",
    "    for row in rows:\n",
    "        print(row)\n",
    "\n",
    "read_students()"
   ]
  },
  {
   "cell_type": "markdown",
   "id": "2e250899-941b-43bf-a9d2-f86f758a2e00",
   "metadata": {},
   "source": [
    "### Update"
   ]
  },
  {
   "cell_type": "code",
   "execution_count": 20,
   "id": "ce88e02d-0bd6-46ef-b965-6ae1fae7611d",
   "metadata": {},
   "outputs": [
    {
     "name": "stdout",
     "output_type": "stream",
     "text": [
      "Student age updated successfully!\n",
      "Student Records:\n",
      "(1, 'Griffith', 20)\n",
      "(2, 'Guts', 21)\n"
     ]
    }
   ],
   "source": [
    "def update_student_age(student_id, new_age):\n",
    "    cursor.execute(\n",
    "        \"UPDATE students SET age = ? WHERE id = ?\", \n",
    "        (new_age, student_id)\n",
    "    )\n",
    "    connection.commit()\n",
    "    print(\"Student age updated successfully!\")\n",
    "\n",
    "update_student_age(2, 21)  # Updating Alice's age to 21\n",
    "read_students()\n"
   ]
  },
  {
   "cell_type": "markdown",
   "id": "3dee10b8-f7d1-47f0-b92f-56d343b5f2e9",
   "metadata": {},
   "source": [
    "### Delete"
   ]
  },
  {
   "cell_type": "code",
   "execution_count": 24,
   "id": "f03aab8c-23d4-441b-aa97-4fe818ce6069",
   "metadata": {},
   "outputs": [
    {
     "name": "stdout",
     "output_type": "stream",
     "text": [
      "Student deleted successfully!\n",
      "Student Records:\n",
      "(1, 'Griffith', 20)\n"
     ]
    }
   ],
   "source": [
    "def delete_student(student_id):\n",
    "    cursor.execute(\n",
    "        \"DELETE FROM students WHERE id = ?\", \n",
    "        (student_id,)\n",
    "    )\n",
    "    connection.commit()\n",
    "    print(\"Student deleted successfully!\")\n",
    "\n",
    "delete_student(2)  # Deleting Bob's record\n",
    "read_students()"
   ]
  },
  {
   "cell_type": "markdown",
   "id": "4d978d20-fc0a-4470-87e3-e09c98283ca3",
   "metadata": {},
   "source": [
    "### Closing the database connection"
   ]
  },
  {
   "cell_type": "code",
   "execution_count": 46,
   "id": "a02090ab-9a15-48bf-b171-52732a2e9fed",
   "metadata": {},
   "outputs": [],
   "source": [
    "connection.close ()"
   ]
  },
  {
   "cell_type": "code",
   "execution_count": null,
   "id": "03a25f2a-cbf5-49b3-b662-f6f2bb0a5ffc",
   "metadata": {},
   "outputs": [],
   "source": []
  }
 ],
 "metadata": {
  "kernelspec": {
   "display_name": "Python 3 (ipykernel)",
   "language": "python",
   "name": "python3"
  },
  "language_info": {
   "codemirror_mode": {
    "name": "ipython",
    "version": 3
   },
   "file_extension": ".py",
   "mimetype": "text/x-python",
   "name": "python",
   "nbconvert_exporter": "python",
   "pygments_lexer": "ipython3",
   "version": "3.12.7"
  }
 },
 "nbformat": 4,
 "nbformat_minor": 5
}
