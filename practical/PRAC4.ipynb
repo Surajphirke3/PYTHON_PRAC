{
 "cells": [
  {
   "cell_type": "code",
   "execution_count": 1,
   "id": "31962d82-6c54-4de3-bfe0-b62a1aacffd8",
   "metadata": {},
   "outputs": [
    {
     "name": "stdout",
     "output_type": "stream",
     "text": [
      "Files in the current directory:\n",
      "Assignment_1_.ipynb\n",
      "PRAC3.ipynb\n",
      "PYTHONPRAC2.ipynb\n",
      "python_prac1.ipynb\n",
      "RAG.ipynb\n",
      "sample.txt\n",
      "Untitled.ipynb\n"
     ]
    },
    {
     "data": {
      "text/plain": [
       "'\\nThe above scipt uses os module to perform the required function.\\nUtilize the pathlib module to perform the same functionality.\\n'"
      ]
     },
     "execution_count": 1,
     "metadata": {},
     "output_type": "execute_result"
    }
   ],
   "source": [
    "import os\n",
    "\n",
    "files = [f for f in os.listdir('.') if os.path.isfile(f)]\n",
    "\n",
    "print(\"Files in the current directory:\")\n",
    "for file in files:\n",
    "    print(file)\n",
    "\n",
    "'''\n",
    "The above scipt uses os module to perform the required function.\n",
    "Utilize the pathlib module to perform the same functionality.\n",
    "'''"
   ]
  },
  {
   "cell_type": "code",
   "execution_count": null,
   "id": "a7fddc42-575f-4501-b8cb-d2050db54e98",
   "metadata": {},
   "outputs": [],
   "source": []
  }
 ],
 "metadata": {
  "kernelspec": {
   "display_name": "Python 3 (ipykernel)",
   "language": "python",
   "name": "python3"
  },
  "language_info": {
   "codemirror_mode": {
    "name": "ipython",
    "version": 3
   },
   "file_extension": ".py",
   "mimetype": "text/x-python",
   "name": "python",
   "nbconvert_exporter": "python",
   "pygments_lexer": "ipython3",
   "version": "3.11.5"
  }
 },
 "nbformat": 4,
 "nbformat_minor": 5
}
