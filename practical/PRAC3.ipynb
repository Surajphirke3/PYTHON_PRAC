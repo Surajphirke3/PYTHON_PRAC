{
 "cells": [
  {
   "cell_type": "code",
   "execution_count": 5,
   "id": "c9e81f83-5fe3-4216-8363-c1b74733cfd2",
   "metadata": {},
   "outputs": [
    {
     "name": "stdout",
     "output_type": "stream",
     "text": [
      "Lines: 11\n",
      "Words: 38\n",
      "Characters: 323\n"
     ]
    }
   ],
   "source": [
    "if __name__ == '__main__':\n",
    "    with open ('./sample.txt', 'r') as file:\n",
    "        lines = file.readlines ()\n",
    "        numberOfLines = len (lines)\n",
    "        numberOfWords = sum (len (line.split()) for line in lines)\n",
    "        \n",
    "        # Write numberOfCharacters over here.\n",
    "        numberOfCharacters = sum(len(line)for line in lines)\n",
    "        \n",
    "    print(f\"Lines: {numberOfLines}\")\n",
    "    print(f\"Words: {numberOfWords}\")\n",
    "    print(f\"Characters: {numberOfCharacters}\")"
   ]
  },
  {
   "cell_type": "code",
   "execution_count": null,
   "id": "18b000ae-155e-4d4e-b087-94023d294433",
   "metadata": {},
   "outputs": [],
   "source": []
  }
 ],
 "metadata": {
  "kernelspec": {
   "display_name": "Python 3 (ipykernel)",
   "language": "python",
   "name": "python3"
  },
  "language_info": {
   "codemirror_mode": {
    "name": "ipython",
    "version": 3
   },
   "file_extension": ".py",
   "mimetype": "text/x-python",
   "name": "python",
   "nbconvert_exporter": "python",
   "pygments_lexer": "ipython3",
   "version": "3.11.5"
  }
 },
 "nbformat": 4,
 "nbformat_minor": 5
}
