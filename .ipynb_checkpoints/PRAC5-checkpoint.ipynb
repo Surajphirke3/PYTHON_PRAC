{
 "cells": [
  {
   "cell_type": "markdown",
   "id": "c6ca42ad-fa99-47c1-9fd4-050382367803",
   "metadata": {},
   "source": [
    "### SURAJ"
   ]
  },
  {
   "cell_type": "markdown",
   "id": "cd53f5f0-145c-4964-881e-9a5a8c58478b",
   "metadata": {},
   "source": [
    "### PRACTICAL NO. 5 "
   ]
  },
  {
   "cell_type": "markdown",
   "id": "9f55e3d5-1ea7-4a42-a8f9-1b07beeb0b6d",
   "metadata": {},
   "source": [
    "### Stack\n"
   ]
  },
  {
   "cell_type": "code",
   "execution_count": 18,
   "id": "2c10f0e3-4155-4baf-ac6b-fbb4738afe9c",
   "metadata": {},
   "outputs": [
    {
     "name": "stdin",
     "output_type": "stream",
     "text": [
      "enter string input 12151\n"
     ]
    },
    {
     "name": "stdout",
     "output_type": "stream",
     "text": [
      "Maximum  Depth: 0\n"
     ]
    }
   ],
   "source": [
    "class StackDepth:\n",
    "    def maximumDepth(self, strInput: str) -> int:\n",
    "        max_depth = 0\n",
    "        current_depth = 0\n",
    "        \n",
    "        for char in strInput:\n",
    "            if char == '(':\n",
    "                current_depth += 1\n",
    "                max_depth = max(max_depth, current_depth)\n",
    "            elif char == ')':\n",
    "                current_depth -= 1\n",
    "        \n",
    "        return max_depth\n",
    "\n",
    "\n",
    "obj = StackDepth()\n",
    "strInput =input(\"enter string input\")\n",
    "print(\"Maximum  Depth:\", obj.maximumDepth(strInput))\n"
   ]
  },
  {
   "cell_type": "code",
   "execution_count": null,
   "id": "dd3824cf-55b7-4c2d-9f0c-b11fdd080da0",
   "metadata": {},
   "outputs": [],
   "source": []
  },
  {
   "cell_type": "code",
   "execution_count": null,
   "id": "0dcffa2e-835d-456d-af64-10652a04da07",
   "metadata": {},
   "outputs": [],
   "source": []
  },
  {
   "cell_type": "code",
   "execution_count": null,
   "id": "8197c8b3-9e95-4299-960d-354f323666c6",
   "metadata": {},
   "outputs": [],
   "source": []
  },
  {
   "cell_type": "code",
   "execution_count": null,
   "id": "a42c6a35-bc4d-447b-835e-549412b25aaf",
   "metadata": {},
   "outputs": [],
   "source": []
  }
 ],
 "metadata": {
  "kernelspec": {
   "display_name": "Python 3 (ipykernel)",
   "language": "python",
   "name": "python3"
  },
  "language_info": {
   "codemirror_mode": {
    "name": "ipython",
    "version": 3
   },
   "file_extension": ".py",
   "mimetype": "text/x-python",
   "name": "python",
   "nbconvert_exporter": "python",
   "pygments_lexer": "ipython3",
   "version": "3.11.5"
  }
 },
 "nbformat": 4,
 "nbformat_minor": 5
}
