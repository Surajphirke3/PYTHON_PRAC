{
 "cells": [
  {
   "cell_type": "code",
   "execution_count": null,
   "id": "9e207ca7-814a-401f-a2f7-d972153404f0",
   "metadata": {},
   "outputs": [],
   "source": []
  },
  {
   "cell_type": "code",
   "execution_count": 1,
   "id": "ff6afb93-91b3-4962-91e0-608e1e34eacf",
   "metadata": {},
   "outputs": [
    {
     "name": "stdout",
     "output_type": "stream",
     "text": [
      "This is a string no. 1\n",
      "This is a string no. 2\n",
      "This is a string no. 3\n"
     ]
    }
   ],
   "source": [
    "# Assigning string to a variable\n",
    "a = 'This is a string no. 1'\n",
    "print (a)\n",
    "b = \"This is a string no. 2\"\n",
    "print (b)\n",
    "c= '''This is a string no. 3'''\n",
    "print (c)"
   ]
  },
  {
   "cell_type": "code",
   "execution_count": 2,
   "id": "4f450832-5c3c-42de-94e8-d6a69ef05c6e",
   "metadata": {},
   "outputs": [
    {
     "name": "stdout",
     "output_type": "stream",
     "text": [
      "[1, 'a', 'string', 3]\n",
      "[1, 'a', 'string', 3, 6]\n",
      "[1, 'a', 'string', 3]\n",
      "a\n"
     ]
    }
   ],
   "source": [
    "# Declaring a list\n",
    "L = [1, \"a\" , \"string\" , 1+2]\n",
    "print (L)\n",
    "#Adding an element in the list\n",
    "L.append(6) \n",
    "print (L)\n",
    "#Deleting last element from a list\n",
    "L.pop()\n",
    "print (L)\n",
    "#Displaying Second element of the list\n",
    "print (L[1])"
   ]
  },
  {
   "cell_type": "code",
   "execution_count": 3,
   "id": "3b85108e-f1ab-447e-9a6a-5268e2846355",
   "metadata": {},
   "outputs": [
    {
     "name": "stdout",
     "output_type": "stream",
     "text": [
      "[1, 'a', 'string', 3]\n",
      "Adding an element in the list\n",
      "after append\n",
      "[1, 'a', 'string', 3, 6]\n",
      "Deleting last element from a list\n",
      "after poping [1, 'a', 'string', 3]\n",
      "displaying second element:  a\n"
     ]
    }
   ],
   "source": [
    "# Declaring a list\n",
    "L = [1, \"a\" , \"string\" , 1+2]\n",
    "print (L)\n",
    "print(\"Adding an element in the list\")\n",
    "L.append(6) \n",
    "print(\"after append\")\n",
    "print (L)\n",
    "print(\"Deleting last element from a list\")\n",
    "L.pop()\n",
    "print (\"after poping\",L)\n",
    "#Displaying Second element of the list\n",
    "print (\"displaying second element: \",L[1])"
   ]
  },
  {
   "cell_type": "code",
   "execution_count": 4,
   "id": "d98a6cbe-8749-4bb5-9a51-f778e45007ad",
   "metadata": {},
   "outputs": [
    {
     "name": "stdout",
     "output_type": "stream",
     "text": [
      "(1, 'a', 'string', 3)\n",
      "a\n"
     ]
    }
   ],
   "source": [
    "tup = (1, \"a\", \"string\", 1+2)\n",
    "print(tup)\n",
    "print(tup[1])"
   ]
  },
  {
   "cell_type": "code",
   "execution_count": 5,
   "id": "142faebf-e3d1-4fb0-9fd8-edaae81a6a64",
   "metadata": {},
   "outputs": [
    {
     "name": "stdout",
     "output_type": "stream",
     "text": [
      "(1, 'a', 'string', 3)\n",
      "(2, 'b', 'suraj', 5)\n",
      "(1, 'a', 'string', 3, 2, 'b', 'suraj', 5)\n",
      "a\n"
     ]
    }
   ],
   "source": [
    "tup = (1, \"a\", \"string\", 1+2)\n",
    "tup2 =(2,\"b\",\"suraj\",1+4)\n",
    "print(tup)\n",
    "print(tup2)\n",
    "print(tup+tup2)\n",
    "print(tup[1])"
   ]
  },
  {
   "cell_type": "code",
   "execution_count": 6,
   "id": "774e353b-b26f-4693-a1f6-4ae8e13c00de",
   "metadata": {},
   "outputs": [
    {
     "name": "stdout",
     "output_type": "stream",
     "text": [
      "{1: 'Lorem', 2: 'Ipsum', 3: 'Dolerum'}\n"
     ]
    }
   ],
   "source": [
    "d = {1: 'Lorem', 2: 'Ipsum', 3: 'Dolerum'}\n",
    "print(d)"
   ]
  },
  {
   "cell_type": "code",
   "execution_count": 7,
   "id": "d7771e32-089a-451f-a392-4f5a44b47004",
   "metadata": {},
   "outputs": [
    {
     "name": "stdout",
     "output_type": "stream",
     "text": [
      "{1: 'Lorem', 2: 'Ipsum', 3: 'Dolerum'}\n",
      "{1: 'Lorem', 2: 'Ipsum', 3: 'Dolerum', 4: 'terem'}\n"
     ]
    }
   ],
   "source": [
    "d = {1: 'Lorem', 2: 'Ipsum', 3: 'Dolerum'}\n",
    "print(d)\n",
    "d.update({4:'terem'})\n",
    "print(d)"
   ]
  },
  {
   "cell_type": "code",
   "execution_count": 8,
   "id": "b73909c8-6164-47d5-a884-02d420220174",
   "metadata": {},
   "outputs": [
    {
     "name": "stdout",
     "output_type": "stream",
     "text": [
      "Alice\n",
      "Alice\n"
     ]
    }
   ],
   "source": [
    "d = { \"name\": \"Alice\", 1: \"Python\", (1, 2): [1,2,4] }\n",
    "\n",
    "# Access using key\n",
    "print(d[\"name\"])\n",
    "\n",
    "# Access using get()\n",
    "print(d.get(\"name\"))"
   ]
  },
  {
   "cell_type": "code",
   "execution_count": 9,
   "id": "65187c15-8df1-496d-83b3-2e3387379275",
   "metadata": {},
   "outputs": [
    {
     "name": "stdout",
     "output_type": "stream",
     "text": [
      "Alice\n",
      "[1, 2, 4]\n"
     ]
    }
   ],
   "source": [
    "d = { \"name\": \"Alice\", 1: \"Python\", (1, 2): [1,2,4] }\n",
    "\n",
    "# Access using key\n",
    "print(d[\"name\"])\n",
    "\n",
    "# Access using get()\n",
    "print(d.get((1,2)))"
   ]
  },
  {
   "cell_type": "code",
   "execution_count": 10,
   "id": "a826b932-557d-41dd-b9ef-7de45d632318",
   "metadata": {
    "editable": true,
    "slideshow": {
     "slide_type": ""
    },
    "tags": []
   },
   "outputs": [
    {
     "name": "stdout",
     "output_type": "stream",
     "text": [
      "{1: 'Python dict', 2: 'of', 3: 'Thrones', 'age': 22}\n"
     ]
    }
   ],
   "source": [
    "d = {1: 'Game', 2: 'of', 3: 'Thrones'}\n",
    "\n",
    "# Adding a new key-value pair\n",
    "d[\"age\"] = 22\n",
    "\n",
    "# Updating an existing value\n",
    "d[1] = \"Python dict\"\n",
    "\n",
    "print(d)\n"
   ]
  },
  {
   "cell_type": "code",
   "execution_count": 11,
   "id": "81569956-56c5-467b-a538-3711e07d2522",
   "metadata": {},
   "outputs": [
    {
     "name": "stdout",
     "output_type": "stream",
     "text": [
      "{1: 'Python dict', 2: 'of', 3: 'Thrones', 'age': 22}\n"
     ]
    }
   ],
   "source": [
    "print(d)\n"
   ]
  },
  {
   "cell_type": "code",
   "execution_count": 12,
   "id": "e8b696bf-895c-4c55-9ef3-05ba61e35f7b",
   "metadata": {},
   "outputs": [
    {
     "name": "stdout",
     "output_type": "stream",
     "text": [
      "{1: 'Python dict', 2: 'of', 3: 'Thrones', 'age': 22}\n"
     ]
    }
   ],
   "source": [
    "print(d)\n"
   ]
  },
  {
   "cell_type": "code",
   "execution_count": 13,
   "id": "7a884dfe-22ef-41b1-a9ee-545deee7539d",
   "metadata": {},
   "outputs": [],
   "source": [
    "d[\"new_dict_ele\"]=19\n"
   ]
  },
  {
   "cell_type": "code",
   "execution_count": 14,
   "id": "951a0c7a-bb25-465a-b833-3fbd68b478f8",
   "metadata": {},
   "outputs": [
    {
     "name": "stdout",
     "output_type": "stream",
     "text": [
      "{1: 'Python dict', 2: 'of', 3: 'Thrones', 'age': 22, 'new_dict_ele': 19}\n"
     ]
    }
   ],
   "source": [
    "print(d)\n"
   ]
  },
  {
   "cell_type": "code",
   "execution_count": 15,
   "id": "0da11388-a09f-46ce-ae85-602b3f6528a3",
   "metadata": {},
   "outputs": [],
   "source": [
    "d[3]=\"suraj\""
   ]
  },
  {
   "cell_type": "code",
   "execution_count": 16,
   "id": "a9342207-bab8-4f1e-a067-d34353498336",
   "metadata": {
    "scrolled": true
   },
   "outputs": [
    {
     "name": "stdout",
     "output_type": "stream",
     "text": [
      "{1: 'Python dict', 2: 'of', 3: 'suraj', 'age': 22, 'new_dict_ele': 19}\n"
     ]
    }
   ],
   "source": [
    "print(d)\n"
   ]
  },
  {
   "cell_type": "code",
   "execution_count": 17,
   "id": "42026bc6-fd88-4a01-bf52-3c3c00e29780",
   "metadata": {},
   "outputs": [
    {
     "name": "stdout",
     "output_type": "stream",
     "text": [
      "{2: 'of', 3: 'suraj', 'age': 22, 'new_dict_ele': 19}\n"
     ]
    }
   ],
   "source": [
    "del d[1]\n",
    "print(d)"
   ]
  },
  {
   "cell_type": "code",
   "execution_count": 18,
   "id": "f0866b75-762b-4529-9d94-f00440bd0e22",
   "metadata": {},
   "outputs": [
    {
     "name": "stdout",
     "output_type": "stream",
     "text": [
      "{1: 'Python dict', 2: 'of', 3: 'suraj', 'age': 22, 'new_dict_ele': 19}\n",
      "{2: 'of', 3: 'suraj', 'age': 22, 'new_dict_ele': 19}\n"
     ]
    }
   ],
   "source": [
    "d={1: 'Python dict', 2: 'of', 3: 'suraj', 'age': 22, 'new_dict_ele': 19}\n",
    "print(d)\n",
    "d.pop(1)\n",
    "print(d)\n"
   ]
  },
  {
   "cell_type": "code",
   "execution_count": 19,
   "id": "96fc5b66-ff8e-4c0d-b057-5e5a86d1bebd",
   "metadata": {},
   "outputs": [
    {
     "name": "stdout",
     "output_type": "stream",
     "text": [
      "{}\n"
     ]
    }
   ],
   "source": [
    "d.clear()\n",
    "print(d)\n"
   ]
  },
  {
   "cell_type": "code",
   "execution_count": null,
   "id": "a1ddc399-1ab3-4c1f-b42f-2f729ac83f52",
   "metadata": {},
   "outputs": [],
   "source": []
  }
 ],
 "metadata": {
  "kernelspec": {
   "display_name": "Python 3 (ipykernel)",
   "language": "python",
   "name": "python3"
  },
  "language_info": {
   "codemirror_mode": {
    "name": "ipython",
    "version": 3
   },
   "file_extension": ".py",
   "mimetype": "text/x-python",
   "name": "python",
   "nbconvert_exporter": "python",
   "pygments_lexer": "ipython3",
   "version": "3.11.5"
  }
 },
 "nbformat": 4,
 "nbformat_minor": 5
}
